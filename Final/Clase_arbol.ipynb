{
  "nbformat": 4,
  "nbformat_minor": 0,
  "metadata": {
    "colab": {
      "name": "Clase_arbol.ipynb",
      "provenance": [],
      "collapsed_sections": []
    },
    "kernelspec": {
      "name": "python3",
      "display_name": "Python 3"
    },
    "language_info": {
      "name": "python"
    }
  },
  "cells": [
    {
      "cell_type": "code",
      "execution_count": 1,
      "metadata": {
        "id": "zAtlkpvulZ9B"
      },
      "outputs": [],
      "source": [
        "#1 crear la clase\n",
        "class Nodo:\n",
        "  pass\n"
      ]
    },
    {
      "cell_type": "code",
      "source": [
        "#2 crear el constructor\n",
        "class Nodo:\n",
        "  def __init__ (self):\n",
        "    print (\"El constructor\")\n",
        "\n",
        "x = Nodo()\n"
      ],
      "metadata": {
        "colab": {
          "base_uri": "https://localhost:8080/"
        },
        "id": "7a_PQ9LyloPi",
        "outputId": "6d787573-bff2-4337-c391-73a5cbc194d4"
      },
      "execution_count": 3,
      "outputs": [
        {
          "output_type": "stream",
          "name": "stdout",
          "text": [
            "El constructor\n"
          ]
        }
      ]
    },
    {
      "cell_type": "code",
      "source": [
        "#3 definir la clase\n",
        "class Nodo:\n",
        "  def __init__ (self, dato):\n",
        "    self.contenido = dato\n",
        "\n",
        "x = Nodo(7)\n",
        "print(x.contenido)\n"
      ],
      "metadata": {
        "colab": {
          "base_uri": "https://localhost:8080/"
        },
        "id": "BW05SoSFl4oG",
        "outputId": "a97c031c-c6fb-40e5-e84b-962fa10c2821"
      },
      "execution_count": 4,
      "outputs": [
        {
          "output_type": "stream",
          "name": "stdout",
          "text": [
            "7\n"
          ]
        }
      ]
    },
    {
      "cell_type": "code",
      "source": [
        "#4 \n",
        "class Nodo:\n",
        "  def __init__ (self, dato):\n",
        "    self.contenido = dato\n",
        "    self.izquierdo = None\n",
        "    self.derecho = None\n",
        "\n",
        "x = Nodo(7)\n",
        "print(x.contenido)\n",
        "print(x.izquierdo)\n",
        "print(x.derecho)\n"
      ],
      "metadata": {
        "colab": {
          "base_uri": "https://localhost:8080/"
        },
        "id": "d5SAHMq2mB8Q",
        "outputId": "6c8658b8-8efd-4489-a9e0-f8d2ca2c29fe"
      },
      "execution_count": 5,
      "outputs": [
        {
          "output_type": "stream",
          "name": "stdout",
          "text": [
            "7\n",
            "None\n",
            "None\n"
          ]
        }
      ]
    },
    {
      "cell_type": "code",
      "source": [
        "#5 definir los elementos del arbol\n",
        "class Nodo:\n",
        "  def __init__ (self, dato):\n",
        "    self.contenido = dato\n",
        "    self.izquierdo = None\n",
        "    self.derecho = None\n",
        "\n",
        "cabeza = Nodo(20)\n",
        "cabeza.izquierda = Nodo(4)\n",
        "cabeza.derecha = Nodo(40)\n",
        "\n",
        "print(cabeza.contenido)\n",
        "print(cabeza.izquierda.contenido)\n",
        "print(cabeza.derecha.contenido)\n"
      ],
      "metadata": {
        "colab": {
          "base_uri": "https://localhost:8080/"
        },
        "id": "MOZV_5COmLfS",
        "outputId": "1220860f-56fc-4e3f-a6b8-abc1517ea104"
      },
      "execution_count": 6,
      "outputs": [
        {
          "output_type": "stream",
          "name": "stdout",
          "text": [
            "20\n",
            "4\n",
            "40\n"
          ]
        }
      ]
    },
    {
      "cell_type": "code",
      "source": [
        "#6 definir los elementos por cada nodo\n",
        "class Nodo:\n",
        "  def __init__ (self, dato):\n",
        "    self.contenido = dato\n",
        "    self.izquierda = None\n",
        "    self.derecha = None\n",
        "\n",
        "cabeza = Nodo(7)\n",
        "\n",
        "cabeza.izquierda = Nodo(3)\n",
        "cabeza.derecha = Nodo(15)\n",
        "\n",
        "cabeza.izquierda.izquierda = Nodo(0)\n",
        "cabeza.izquierda.derecha = Nodo(6)\n",
        "\n",
        "cabeza.derecha.izquierda = Nodo(8)\n",
        "cabeza.derecha.derecha = Nodo(70)\n",
        "\n",
        "cabeza.derecha.izquierda.izquierda = Nodo(9)\n",
        "cabeza.derecha.izquierda.derecha = Nodo(25)\n"
      ],
      "metadata": {
        "id": "GkQzGeECmY4I"
      },
      "execution_count": 9,
      "outputs": []
    },
    {
      "cell_type": "code",
      "source": [
        "#7 retornar la informacion al inicio del nodo\n",
        "class Nodo:\n",
        "  def __init__ (self, dato):\n",
        "    self.contenido = dato\n",
        "    self.izquierda = None\n",
        "    self.derecha = None\n",
        "\n",
        "cabeza = Nodo(7)\n",
        "\n",
        "cabeza.izquierda = Nodo(3)\n",
        "cabeza.derecha = Nodo(15)\n",
        "\n",
        "cabeza.izquierda.izquierda = Nodo(0)\n",
        "cabeza.izquierda.derecha = Nodo(6)\n",
        "\n",
        "cabeza.derecha.izquierda = Nodo(8)\n",
        "cabeza.derecha.derecha = Nodo(70)\n",
        "\n",
        "cabeza.derecha.izquierda.izquierda = Nodo(9)\n",
        "cabeza.derecha.izquierda.derecha = Nodo(25) \n",
        "\n",
        "def imprimir( nodo ):\n",
        "  if ( nodo == None ):\n",
        "    return\n",
        "  else:\n",
        "    print( nodo.contenido)\n",
        "    imprimir( nodo.izquierda )\n",
        "    imprimir( nodo.derecha)\n",
        "\n",
        "imprimir( cabeza )\n"
      ],
      "metadata": {
        "colab": {
          "base_uri": "https://localhost:8080/"
        },
        "id": "ijLmGyKvmorU",
        "outputId": "d3cec3e7-6981-4587-a485-25adf4d5be47"
      },
      "execution_count": 10,
      "outputs": [
        {
          "output_type": "stream",
          "name": "stdout",
          "text": [
            "7\n",
            "3\n",
            "0\n",
            "6\n",
            "15\n",
            "8\n",
            "9\n",
            "25\n",
            "70\n"
          ]
        }
      ]
    },
    {
      "cell_type": "code",
      "source": [
        "#8 definir los movimientos del nodo\n",
        "class Nodo:\n",
        "  def __init__ (self, dato):\n",
        "    self.contenido = dato\n",
        "    self.izquierda = None\n",
        "    self.derecha = None\n",
        "\n",
        "cabeza = Nodo(7)\n",
        "\n",
        "cabeza.izquierda = Nodo(3)\n",
        "cabeza.derecha = Nodo(15)\n",
        "\n",
        "cabeza.izquierda.izquierda = Nodo(0)\n",
        "cabeza.izquierda.derecha = Nodo(6)\n",
        "\n",
        "cabeza.derecha.izquierda = Nodo(8)\n",
        "cabeza.derecha.derecha = Nodo(70)\n",
        "\n",
        "cabeza.derecha.izquierda.izquierda = Nodo(9)\n",
        "cabeza.derecha.izquierda.derecha = Nodo(25)\n",
        "\n",
        "def imprimir( nodo, direccion ):\n",
        "  if (direccion != None):\n",
        "    print(\"Se mueve hacia la\" + direccion)\n",
        "  if ( nodo == None ):\n",
        "    print(\"Nodo vacío. Regresa al inicio\")\n",
        "    return\n",
        "  else:\n",
        "    print( nodo.contenido)\n",
        "    imprimir( nodo.izquierda, \" izquierda\" )\n",
        "    imprimir( nodo.derecha, \" derecha\")\n",
        "    print(\"Nodo procesado. Regresa al inicio\")\n",
        "\n",
        "imprimir( cabeza, None )\n"
      ],
      "metadata": {
        "colab": {
          "base_uri": "https://localhost:8080/"
        },
        "id": "KizQ7cyrmxuM",
        "outputId": "973f765b-af6f-4390-c849-8ac27546ad55"
      },
      "execution_count": 13,
      "outputs": [
        {
          "output_type": "stream",
          "name": "stdout",
          "text": [
            "7\n",
            "Se mueve hacia la izquierda\n",
            "3\n",
            "Se mueve hacia la izquierda\n",
            "0\n",
            "Se mueve hacia la izquierda\n",
            "Nodo vacío. Regresa al inicio\n",
            "Se mueve hacia la derecha\n",
            "Nodo vacío. Regresa al inicio\n",
            "Nodo procesado. Regresa al inicio\n",
            "Se mueve hacia la derecha\n",
            "6\n",
            "Se mueve hacia la izquierda\n",
            "Nodo vacío. Regresa al inicio\n",
            "Se mueve hacia la derecha\n",
            "Nodo vacío. Regresa al inicio\n",
            "Nodo procesado. Regresa al inicio\n",
            "Nodo procesado. Regresa al inicio\n",
            "Se mueve hacia la derecha\n",
            "15\n",
            "Se mueve hacia la izquierda\n",
            "8\n",
            "Se mueve hacia la izquierda\n",
            "9\n",
            "Se mueve hacia la izquierda\n",
            "Nodo vacío. Regresa al inicio\n",
            "Se mueve hacia la derecha\n",
            "Nodo vacío. Regresa al inicio\n",
            "Nodo procesado. Regresa al inicio\n",
            "Se mueve hacia la derecha\n",
            "25\n",
            "Se mueve hacia la izquierda\n",
            "Nodo vacío. Regresa al inicio\n",
            "Se mueve hacia la derecha\n",
            "Nodo vacío. Regresa al inicio\n",
            "Nodo procesado. Regresa al inicio\n",
            "Nodo procesado. Regresa al inicio\n",
            "Se mueve hacia la derecha\n",
            "70\n",
            "Se mueve hacia la izquierda\n",
            "Nodo vacío. Regresa al inicio\n",
            "Se mueve hacia la derecha\n",
            "Nodo vacío. Regresa al inicio\n",
            "Nodo procesado. Regresa al inicio\n",
            "Nodo procesado. Regresa al inicio\n",
            "Nodo procesado. Regresa al inicio\n"
          ]
        }
      ]
    },
    {
      "cell_type": "code",
      "source": [
        "#9 sumar recursivamente el contenido\n",
        "class Nodo:\n",
        "  def __init__ (self, dato):\n",
        "    self.contenido = dato\n",
        "    self.izquierda = None\n",
        "    self.derecha = None\n",
        "\n",
        "cabeza = Nodo(7)\n",
        "\n",
        "cabeza.izquierda = Nodo(3)\n",
        "cabeza.derecha = Nodo(15)\n",
        "\n",
        "cabeza.izquierda.izquierda = Nodo(0)\n",
        "cabeza.izquierda.derecha = Nodo(6)\n",
        "\n",
        "cabeza.derecha.izquierda = Nodo(8)\n",
        "cabeza.derecha.derecha = Nodo(70)\n",
        "\n",
        "cabeza.derecha.izquierda.izquierda = Nodo(9)\n",
        "cabeza.derecha.izquierda.derecha = Nodo(25)\n",
        "\n",
        "def sumar ( nodo ):\n",
        "  if ( nodo == None ):\n",
        "    return 0\n",
        "  return nodo.contenido + sumar(nodo.izquierda) + sumar(nodo.derecha)\n",
        "\n",
        "print ( sumar ( cabeza ) )\n"
      ],
      "metadata": {
        "colab": {
          "base_uri": "https://localhost:8080/"
        },
        "id": "CoYdWzg4ne-N",
        "outputId": "6e62ecab-b528-4fa4-ee46-b13f00a0cc01"
      },
      "execution_count": 16,
      "outputs": [
        {
          "output_type": "stream",
          "name": "stdout",
          "text": [
            "143\n"
          ]
        }
      ]
    },
    {
      "cell_type": "code",
      "source": [
        "#10 Encontrar el valor más alto en el arbol\n",
        "class Nodo:\n",
        "  def __init__ (self, dato):\n",
        "    self.contenido = dato\n",
        "    self.izquierda = None\n",
        "    self.derecha = None\n",
        "\n",
        "cabeza = Nodo(7)\n",
        "\n",
        "cabeza.izquierda = Nodo(3)\n",
        "cabeza.derecha = Nodo(15)\n",
        "\n",
        "cabeza.izquierda.izquierda = Nodo(0)\n",
        "cabeza.izquierda.derecha = Nodo(6)\n",
        "\n",
        "cabeza.derecha.izquierda = Nodo(8)\n",
        "cabeza.derecha.derecha = Nodo(70)\n",
        "\n",
        "cabeza.derecha.izquierda.izquierda = Nodo(9)\n",
        "cabeza.derecha.izquierda.derecha = Nodo(25)\n",
        "\n",
        "def mayor ( nodo, valor ):\n",
        "  if ( nodo == None ):\n",
        "    return valor\n",
        "  if ( nodo.contenido > valor ):\n",
        "    valor = nodo.contenido\n",
        "  n1 = mayor ( nodo.izquierda, valor )\n",
        "  n2 = mayor ( nodo.derecha, valor )\n",
        "  if ( n1 > n2 ):\n",
        "    return n1\n",
        "  else:\n",
        "    return n2\n",
        "\n",
        "print ( mayor ( cabeza, cabeza.contenido ) )"
      ],
      "metadata": {
        "colab": {
          "base_uri": "https://localhost:8080/"
        },
        "id": "5pPMGBuHo6Q_",
        "outputId": "37f7e078-0d47-4dd3-b92f-79db08701551"
      },
      "execution_count": 17,
      "outputs": [
        {
          "output_type": "stream",
          "name": "stdout",
          "text": [
            "70\n"
          ]
        }
      ]
    },
    {
      "cell_type": "code",
      "source": [
        "#11 buscar en el arbol\n",
        "class Nodo:\n",
        "  def __init__ (self, dato):\n",
        "    self.contenido = dato\n",
        "    self.izquierda = None\n",
        "    self.derecha = None\n",
        "\n",
        "cabeza = Nodo(7)\n",
        "\n",
        "cabeza.izquierda = Nodo(3)\n",
        "cabeza.derecha = Nodo(15)\n",
        "\n",
        "cabeza.izquierda.izquierda = Nodo(0)\n",
        "cabeza.izquierda.derecha = Nodo(6)\n",
        "\n",
        "cabeza.derecha.izquierda = Nodo(8)\n",
        "cabeza.derecha.derecha = Nodo(70)\n",
        "\n",
        "cabeza.derecha.izquierda.izquierda = Nodo(9)\n",
        "cabeza.derecha.izquierda.derecha = Nodo(25)\n",
        "\n",
        "def buscar ( nodo, valor ):\n",
        "  if ( nodo == None ):\n",
        "    return False\n",
        "  if ( nodo.contenido == valor ):\n",
        "    return True\n",
        "  else:\n",
        "    aux1 = buscar ( nodo.izquierda, valor )\n",
        "    if ( aux1 == True ):\n",
        "      return True\n",
        "    else:\n",
        "      aux2 = buscar ( nodo.derecha, valor )\n",
        "      return aux2\n",
        "\n",
        "if ( buscar ( cabeza, 9 ) == True ):\n",
        "  print (\"Lo encontramos\")\n",
        "else:\n",
        "  print (\"NO lo encontramos\")\n"
      ],
      "metadata": {
        "colab": {
          "base_uri": "https://localhost:8080/"
        },
        "id": "_8fHIUbNpQdN",
        "outputId": "faa2c505-a045-4eb8-dad3-3ff7223bda37"
      },
      "execution_count": 19,
      "outputs": [
        {
          "output_type": "stream",
          "name": "stdout",
          "text": [
            "Lo encontramos\n"
          ]
        }
      ]
    }
  ]
}