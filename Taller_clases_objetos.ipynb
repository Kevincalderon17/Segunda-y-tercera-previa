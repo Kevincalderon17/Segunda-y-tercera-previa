{
  "nbformat": 4,
  "nbformat_minor": 0,
  "metadata": {
    "colab": {
      "name": "Taller_clases_objetos.ipynb",
      "provenance": [],
      "collapsed_sections": []
    },
    "kernelspec": {
      "name": "python3",
      "display_name": "Python 3"
    },
    "language_info": {
      "name": "python"
    }
  },
  "cells": [
    {
      "cell_type": "markdown",
      "source": [
        "## TALLER\n",
        "\n",
        "1) Crear una clase para generar objetos\n",
        "\n",
        "- Gato\n",
        "\n",
        "2) Crear una clase para representar objetos\n",
        "\n",
        "- Moto\n",
        "\n",
        "NOTA: Estas clases se deben crar en COLAB\n",
        "\n",
        "3) Escribir un Paper sencillo en donde coloquen toda la teoría y los talleres realizados en COLAB\n",
        "\n",
        "4) Subir todo a Classroom, al espacio designado por el profesor en la segunda previa\n",
        "\n",
        "5) SUBIR ESTE MATERIAL A Github"
      ],
      "metadata": {
        "id": "9PizLVHurHsC"
      }
    },
    {
      "cell_type": "code",
      "execution_count": 28,
      "metadata": {
        "colab": {
          "base_uri": "https://localhost:8080/"
        },
        "id": "MdESnA6cq78G",
        "outputId": "201b7c4f-cab9-45e2-a7f2-d3e859090a4f"
      },
      "outputs": [
        {
          "output_type": "stream",
          "name": "stdout",
          "text": [
            "Angora\n",
            "Pelusa\n",
            "2\n"
          ]
        }
      ],
      "source": [
        "#1\n",
        "class Gato: \n",
        "  def __init__(self, raza, nombre, edad):\n",
        "    self.raza = raza\n",
        "    self.nombre = nombre\n",
        "    self.edad = edad\n",
        "  def get_raza(self): \n",
        "    print(self.raza)\n",
        "  def get_nombre(self): \n",
        "    print(self.nombre)\n",
        "  def get_edad(self): \n",
        "    print(self.edad)\n",
        "\n",
        "p = Gato(\"Angora\", \"Pelusa\", 2)\n",
        "p.get_raza()\n",
        "p.get_nombre()\n",
        "p.get_edad()\n"
      ]
    },
    {
      "cell_type": "code",
      "source": [
        "#2\n",
        "class Moto: \n",
        "  def __init__(self, marca, referencia, get_cilindraje):\n",
        "    self.marca = marca\n",
        "    self.referencia = referencia\n",
        "    self.cilindraje = get_cilindraje\n",
        "  def get_marca(self): \n",
        "    print(self.marca)\n",
        "  def get_referencia(self): \n",
        "    print(self.referencia)\n",
        "  def get_cilindraje(self): \n",
        "    print(self.cilindraje)\n",
        "\n",
        "p = Moto(\"Suzuki\", \"Gsx\", 1000)\n",
        "p.get_marca()\n",
        "p.get_referencia()\n",
        "p.get_cilindraje()"
      ],
      "metadata": {
        "colab": {
          "base_uri": "https://localhost:8080/"
        },
        "id": "9oOVY-7Zr1lZ",
        "outputId": "592d75ee-4915-4559-bcd0-8a7ae791d185"
      },
      "execution_count": 36,
      "outputs": [
        {
          "output_type": "stream",
          "name": "stdout",
          "text": [
            "Suzuki\n",
            "Gsx\n",
            "1000\n"
          ]
        }
      ]
    }
  ]
}